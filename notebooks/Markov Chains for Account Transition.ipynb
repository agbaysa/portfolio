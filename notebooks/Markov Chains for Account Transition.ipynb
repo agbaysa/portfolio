{
 "cells": [
  {
   "cell_type": "markdown",
   "id": "874fc314-6475-4983-9eda-ee39918f3785",
   "metadata": {},
   "source": [
    "### <font color='orange'> Markov Chains for PAR Account Transitions</font>"
   ]
  },
  {
   "cell_type": "code",
   "execution_count": null,
   "id": "f969dd17-f003-44c4-8e81-9a424da52f74",
   "metadata": {},
   "outputs": [],
   "source": [
    "import numpy as np\n",
    "import random\n",
    "import pandas as pd\n",
    "from datetime import datetime"
   ]
  },
  {
   "cell_type": "code",
   "execution_count": 39,
   "id": "f0473d37-d93c-4a95-a8de-785974ad9b48",
   "metadata": {},
   "outputs": [],
   "source": [
    "mydates = pd.Series(pd.date_range(start=\"2022-01-01\",end=\"2022-12-31\"))\n",
    "\n",
    "random.seed(1)\n",
    "my_segments = ['Agricultural','Blend','Commercial','GMS','Industrial','Microfinance','Other Personal','Salary Loan-HO','SME','Uploan']\n",
    "my_segments2 = pd.Series(random.choices(my_segments,k=len(mydates)))"
   ]
  },
  {
   "cell_type": "code",
   "execution_count": 47,
   "id": "fced6171-b9b0-440e-ac5a-be7ab6b8b5df",
   "metadata": {},
   "outputs": [],
   "source": []
  },
  {
   "cell_type": "code",
   "execution_count": 170,
   "id": "d7e2c962-35ce-4e5f-a842-85933f832a33",
   "metadata": {},
   "outputs": [],
   "source": [
    "mynum = list(np.arange(1,5000000))\n",
    "my_par = ['PAR0','PAR1','PAR2']\n",
    "\n",
    "df1 = pd.DataFrame()\n",
    "df1['ID'] = random.sample(mynum, k =3000000)\n",
    "df1['state1'] = random.choices(my_par, k=3000000)\n",
    "\n",
    "df2 = pd.DataFrame()\n",
    "df2['ID'] = random.sample(mynum, k =3000000)\n",
    "df2['state2'] = random.choices(my_par, k=3000000)"
   ]
  },
  {
   "cell_type": "code",
   "execution_count": 171,
   "id": "a2d01f58-f22d-457e-8251-aafe306328ec",
   "metadata": {},
   "outputs": [
    {
     "data": {
      "text/plain": [
       "(3000000, 3)"
      ]
     },
     "execution_count": 171,
     "metadata": {},
     "output_type": "execute_result"
    }
   ],
   "source": [
    "df3 = pd.merge(df1, df2, how='left', left_on='ID', right_on='ID')\n",
    "df3.shape"
   ]
  },
  {
   "cell_type": "code",
   "execution_count": 173,
   "id": "2e24722b-8580-4c59-83ca-24d1af45c8ba",
   "metadata": {},
   "outputs": [
    {
     "data": {
      "text/html": [
       "<div>\n",
       "<style scoped>\n",
       "    .dataframe tbody tr th:only-of-type {\n",
       "        vertical-align: middle;\n",
       "    }\n",
       "\n",
       "    .dataframe tbody tr th {\n",
       "        vertical-align: top;\n",
       "    }\n",
       "\n",
       "    .dataframe thead th {\n",
       "        text-align: right;\n",
       "    }\n",
       "</style>\n",
       "<table border=\"1\" class=\"dataframe\">\n",
       "  <thead>\n",
       "    <tr style=\"text-align: right;\">\n",
       "      <th></th>\n",
       "      <th>ID</th>\n",
       "      <th>state1</th>\n",
       "      <th>state2</th>\n",
       "    </tr>\n",
       "  </thead>\n",
       "  <tbody>\n",
       "    <tr>\n",
       "      <th>0</th>\n",
       "      <td>1128258</td>\n",
       "      <td>PAR1</td>\n",
       "      <td>PAR0</td>\n",
       "    </tr>\n",
       "    <tr>\n",
       "      <th>1</th>\n",
       "      <td>2241400</td>\n",
       "      <td>PAR1</td>\n",
       "      <td>NaN</td>\n",
       "    </tr>\n",
       "    <tr>\n",
       "      <th>2</th>\n",
       "      <td>4290932</td>\n",
       "      <td>PAR1</td>\n",
       "      <td>PAR0</td>\n",
       "    </tr>\n",
       "  </tbody>\n",
       "</table>\n",
       "</div>"
      ],
      "text/plain": [
       "        ID state1 state2\n",
       "0  1128258   PAR1   PAR0\n",
       "1  2241400   PAR1    NaN\n",
       "2  4290932   PAR1   PAR0"
      ]
     },
     "execution_count": 173,
     "metadata": {},
     "output_type": "execute_result"
    }
   ],
   "source": [
    "df3.head(3)"
   ]
  },
  {
   "cell_type": "code",
   "execution_count": 174,
   "id": "6d553417-a045-4355-979e-cfceb2ba108b",
   "metadata": {},
   "outputs": [
    {
     "data": {
      "text/html": [
       "<div>\n",
       "<style scoped>\n",
       "    .dataframe tbody tr th:only-of-type {\n",
       "        vertical-align: middle;\n",
       "    }\n",
       "\n",
       "    .dataframe tbody tr th {\n",
       "        vertical-align: top;\n",
       "    }\n",
       "\n",
       "    .dataframe thead tr th {\n",
       "        text-align: left;\n",
       "    }\n",
       "</style>\n",
       "<table border=\"1\" class=\"dataframe\">\n",
       "  <thead>\n",
       "    <tr>\n",
       "      <th></th>\n",
       "      <th>state1</th>\n",
       "      <th colspan=\"4\" halign=\"left\">ID</th>\n",
       "    </tr>\n",
       "    <tr>\n",
       "      <th>state2</th>\n",
       "      <th></th>\n",
       "      <th>PAR0</th>\n",
       "      <th>PAR1</th>\n",
       "      <th>PAR2</th>\n",
       "      <th>All</th>\n",
       "    </tr>\n",
       "  </thead>\n",
       "  <tbody>\n",
       "    <tr>\n",
       "      <th>0</th>\n",
       "      <td>PAR0</td>\n",
       "      <td>199908</td>\n",
       "      <td>200218</td>\n",
       "      <td>200761</td>\n",
       "      <td>600887</td>\n",
       "    </tr>\n",
       "    <tr>\n",
       "      <th>1</th>\n",
       "      <td>PAR1</td>\n",
       "      <td>200009</td>\n",
       "      <td>199511</td>\n",
       "      <td>199999</td>\n",
       "      <td>599519</td>\n",
       "    </tr>\n",
       "    <tr>\n",
       "      <th>2</th>\n",
       "      <td>PAR2</td>\n",
       "      <td>199810</td>\n",
       "      <td>200082</td>\n",
       "      <td>199843</td>\n",
       "      <td>599735</td>\n",
       "    </tr>\n",
       "    <tr>\n",
       "      <th>3</th>\n",
       "      <td>All</td>\n",
       "      <td>599727</td>\n",
       "      <td>599811</td>\n",
       "      <td>600603</td>\n",
       "      <td>1800141</td>\n",
       "    </tr>\n",
       "  </tbody>\n",
       "</table>\n",
       "</div>"
      ],
      "text/plain": [
       "       state1      ID                         \n",
       "state2           PAR0    PAR1    PAR2      All\n",
       "0        PAR0  199908  200218  200761   600887\n",
       "1        PAR1  200009  199511  199999   599519\n",
       "2        PAR2  199810  200082  199843   599735\n",
       "3         All  599727  599811  600603  1800141"
      ]
     },
     "execution_count": 174,
     "metadata": {},
     "output_type": "execute_result"
    }
   ],
   "source": [
    "foo2 = pd.pivot_table(df3, index=['state1'], columns=['state2'], aggfunc='count', margins=True).reset_index()\n",
    "foo2"
   ]
  },
  {
   "cell_type": "code",
   "execution_count": 176,
   "id": "a8c92349-418f-4118-9e7d-696fadf19b1b",
   "metadata": {},
   "outputs": [
    {
     "data": {
      "text/html": [
       "<div>\n",
       "<style scoped>\n",
       "    .dataframe tbody tr th:only-of-type {\n",
       "        vertical-align: middle;\n",
       "    }\n",
       "\n",
       "    .dataframe tbody tr th {\n",
       "        vertical-align: top;\n",
       "    }\n",
       "\n",
       "    .dataframe thead tr th {\n",
       "        text-align: left;\n",
       "    }\n",
       "</style>\n",
       "<table border=\"1\" class=\"dataframe\">\n",
       "  <thead>\n",
       "    <tr>\n",
       "      <th></th>\n",
       "      <th>state1</th>\n",
       "      <th colspan=\"4\" halign=\"left\">ID</th>\n",
       "    </tr>\n",
       "    <tr>\n",
       "      <th>state2</th>\n",
       "      <th></th>\n",
       "      <th>PAR0</th>\n",
       "      <th>PAR1</th>\n",
       "      <th>PAR2</th>\n",
       "      <th>All</th>\n",
       "    </tr>\n",
       "  </thead>\n",
       "  <tbody>\n",
       "    <tr>\n",
       "      <th>0</th>\n",
       "      <td>PAR0</td>\n",
       "      <td>0.332688</td>\n",
       "      <td>0.333204</td>\n",
       "      <td>0.334108</td>\n",
       "      <td>1.0</td>\n",
       "    </tr>\n",
       "    <tr>\n",
       "      <th>1</th>\n",
       "      <td>PAR1</td>\n",
       "      <td>0.333616</td>\n",
       "      <td>0.332785</td>\n",
       "      <td>0.333599</td>\n",
       "      <td>1.0</td>\n",
       "    </tr>\n",
       "    <tr>\n",
       "      <th>2</th>\n",
       "      <td>PAR2</td>\n",
       "      <td>0.333164</td>\n",
       "      <td>0.333617</td>\n",
       "      <td>0.333219</td>\n",
       "      <td>1.0</td>\n",
       "    </tr>\n",
       "    <tr>\n",
       "      <th>3</th>\n",
       "      <td>All</td>\n",
       "      <td>0.333156</td>\n",
       "      <td>0.333202</td>\n",
       "      <td>0.333642</td>\n",
       "      <td>1.0</td>\n",
       "    </tr>\n",
       "  </tbody>\n",
       "</table>\n",
       "</div>"
      ],
      "text/plain": [
       "       state1        ID                         \n",
       "state2             PAR0      PAR1      PAR2  All\n",
       "0        PAR0  0.332688  0.333204  0.334108  1.0\n",
       "1        PAR1  0.333616  0.332785  0.333599  1.0\n",
       "2        PAR2  0.333164  0.333617  0.333219  1.0\n",
       "3         All  0.333156  0.333202  0.333642  1.0"
      ]
     },
     "execution_count": 176,
     "metadata": {},
     "output_type": "execute_result"
    }
   ],
   "source": [
    "foo2 = pd.pivot_table(df3, index=['state1'], columns=['state2'], aggfunc='count', margins=True, fill_value=0)\n",
    "foo3 = foo2.div(foo2.iloc[:,-1], axis=0)\n",
    "foo3.reset_index()"
   ]
  }
 ],
 "metadata": {
  "kernelspec": {
   "display_name": "Python 3",
   "language": "python",
   "name": "python3"
  },
  "language_info": {
   "codemirror_mode": {
    "name": "ipython",
    "version": 3
   },
   "file_extension": ".py",
   "mimetype": "text/x-python",
   "name": "python",
   "nbconvert_exporter": "python",
   "pygments_lexer": "ipython3",
   "version": "3.8.8"
  }
 },
 "nbformat": 4,
 "nbformat_minor": 5
}
