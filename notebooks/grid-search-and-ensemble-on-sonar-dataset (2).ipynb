{
 "cells": [
  {
   "cell_type": "markdown",
   "metadata": {},
   "source": [
    "## <font color='orange'>Grid Search and Ensemble Methods Using the Sonar Dataset</font>"
   ]
  },
  {
   "cell_type": "markdown",
   "metadata": {},
   "source": [
    "###### by A. Baysa\n",
    "\n",
    "\n",
    "\n"
   ]
  },
  {
   "cell_type": "markdown",
   "metadata": {},
   "source": [
    "This notebook is an example of using grid search and ensemble methods on the sonar dataset. For boosting, `AdaBoost` and `Gradient Boosting`were used while for bagging, `Random Forest` and `Extra Trees` were used. At the end of the analysis, the `Support Vector Classifier` was the final model used with its default parameters. "
   ]
  },
  {
   "cell_type": "markdown",
   "metadata": {},
   "source": [
    "## Import Libraries"
   ]
  },
  {
   "cell_type": "code",
   "execution_count": 90,
   "metadata": {
    "_cell_guid": "b1076dfc-b9ad-4769-8c92-a6c4dae69d19",
    "_uuid": "8f2839f25d086af736a60e9eeb907d3b93b6e0e5"
   },
   "outputs": [],
   "source": [
    "import pandas as pd\n",
    "import numpy as np\n",
    "import matplotlib.pyplot as plt\n",
    "import seaborn as sns\n",
    "\n",
    "from sklearn.model_selection import train_test_split, KFold, cross_val_score, GridSearchCV\n",
    "\n",
    "from sklearn.preprocessing import StandardScaler\n",
    "\n",
    "from sklearn.metrics import classification_report, confusion_matrix, accuracy_score\n",
    "\n",
    "from sklearn.pipeline import Pipeline\n",
    "\n",
    "from sklearn.linear_model import LogisticRegression\n",
    "from sklearn.tree import DecisionTreeClassifier\n",
    "from sklearn.neighbors import KNeighborsClassifier\n",
    "from sklearn.discriminant_analysis import LinearDiscriminantAnalysis\n",
    "from sklearn.naive_bayes import GaussianNB\n",
    "from sklearn.svm import SVC\n",
    "\n",
    "from sklearn.ensemble import AdaBoostClassifier, GradientBoostingClassifier, RandomForestClassifier, ExtraTreesClassifier\n",
    "\n",
    "import os\n",
    "import warnings\n",
    "warnings.filterwarnings('ignore')\n",
    "pd.set_option('precision', 2)"
   ]
  },
  {
   "cell_type": "markdown",
   "metadata": {},
   "source": [
    "## Background of Dataset"
   ]
  },
  {
   "cell_type": "markdown",
   "metadata": {},
   "source": [
    "The sonar dataset is composed of 61 attributes and 208 rows. Gorman and Sejnowski used this data set in their study of employing a neural network to classify sonar waves. The goal is to train a network to recognize the difference between sonar signals rebounded off a metal cylinder and those bounced off a similarly cylindrical rock. Sejnowski, from Salk Institute and the University of California, San Diego, submitted the data set to the benchmark collection. \n",
    "\n",
    "The transmitted sonar signal is a rising frequency frequency-modulated chirp. The data set includes signals gathered from a variety of sources. The cylinder has a 90-degree aspect angle, while the rock has a 180-degree aspect angle. Each pattern consists of a collection of 60 numbers ranging from 0.0 to 1.0. Each value reflects the energy inside a specific frequency range over a specific time period. Because higher frequencies are broadcast later in the chirp, the integration aperture for these frequencies occurs later in time. Metals are denoted by 0 under the Class column while rocks are denoted by 1.\n",
    "Further details of the dataset can be found [here](https://datahub.io/machine-learning/sonar#python).\n",
    "\n",
    "The head of the data and the distribution of class types (rock or metal) is presented below."
   ]
  },
  {
   "cell_type": "code",
   "execution_count": 91,
   "metadata": {},
   "outputs": [
    {
     "data": {
      "text/html": [
       "<div>\n",
       "<style scoped>\n",
       "    .dataframe tbody tr th:only-of-type {\n",
       "        vertical-align: middle;\n",
       "    }\n",
       "\n",
       "    .dataframe tbody tr th {\n",
       "        vertical-align: top;\n",
       "    }\n",
       "\n",
       "    .dataframe thead th {\n",
       "        text-align: right;\n",
       "    }\n",
       "</style>\n",
       "<table border=\"1\" class=\"dataframe\">\n",
       "  <thead>\n",
       "    <tr style=\"text-align: right;\">\n",
       "      <th></th>\n",
       "      <th>V1</th>\n",
       "      <th>V2</th>\n",
       "      <th>V3</th>\n",
       "      <th>V4</th>\n",
       "      <th>V5</th>\n",
       "      <th>V6</th>\n",
       "      <th>V7</th>\n",
       "      <th>V8</th>\n",
       "      <th>V9</th>\n",
       "      <th>V10</th>\n",
       "      <th>...</th>\n",
       "      <th>V52</th>\n",
       "      <th>V53</th>\n",
       "      <th>V54</th>\n",
       "      <th>V55</th>\n",
       "      <th>V56</th>\n",
       "      <th>V57</th>\n",
       "      <th>V58</th>\n",
       "      <th>V59</th>\n",
       "      <th>V60</th>\n",
       "      <th>Class</th>\n",
       "    </tr>\n",
       "  </thead>\n",
       "  <tbody>\n",
       "    <tr>\n",
       "      <th>0</th>\n",
       "      <td>0.02</td>\n",
       "      <td>0.04</td>\n",
       "      <td>0.04</td>\n",
       "      <td>0.02</td>\n",
       "      <td>0.10</td>\n",
       "      <td>0.10</td>\n",
       "      <td>0.15</td>\n",
       "      <td>0.16</td>\n",
       "      <td>0.31</td>\n",
       "      <td>0.21</td>\n",
       "      <td>...</td>\n",
       "      <td>2.70e-03</td>\n",
       "      <td>6.50e-03</td>\n",
       "      <td>1.59e-02</td>\n",
       "      <td>7.20e-03</td>\n",
       "      <td>0.02</td>\n",
       "      <td>0.02</td>\n",
       "      <td>8.40e-03</td>\n",
       "      <td>9.00e-03</td>\n",
       "      <td>3.20e-03</td>\n",
       "      <td>1</td>\n",
       "    </tr>\n",
       "    <tr>\n",
       "      <th>1</th>\n",
       "      <td>0.05</td>\n",
       "      <td>0.05</td>\n",
       "      <td>0.08</td>\n",
       "      <td>0.07</td>\n",
       "      <td>0.12</td>\n",
       "      <td>0.26</td>\n",
       "      <td>0.22</td>\n",
       "      <td>0.35</td>\n",
       "      <td>0.33</td>\n",
       "      <td>0.29</td>\n",
       "      <td>...</td>\n",
       "      <td>8.40e-03</td>\n",
       "      <td>8.90e-03</td>\n",
       "      <td>4.80e-03</td>\n",
       "      <td>9.40e-03</td>\n",
       "      <td>0.02</td>\n",
       "      <td>0.01</td>\n",
       "      <td>4.90e-03</td>\n",
       "      <td>5.20e-03</td>\n",
       "      <td>4.40e-03</td>\n",
       "      <td>1</td>\n",
       "    </tr>\n",
       "    <tr>\n",
       "      <th>2</th>\n",
       "      <td>0.03</td>\n",
       "      <td>0.06</td>\n",
       "      <td>0.11</td>\n",
       "      <td>0.11</td>\n",
       "      <td>0.10</td>\n",
       "      <td>0.23</td>\n",
       "      <td>0.24</td>\n",
       "      <td>0.38</td>\n",
       "      <td>0.56</td>\n",
       "      <td>0.62</td>\n",
       "      <td>...</td>\n",
       "      <td>2.32e-02</td>\n",
       "      <td>1.66e-02</td>\n",
       "      <td>9.50e-03</td>\n",
       "      <td>1.80e-02</td>\n",
       "      <td>0.02</td>\n",
       "      <td>0.03</td>\n",
       "      <td>1.64e-02</td>\n",
       "      <td>9.50e-03</td>\n",
       "      <td>7.80e-03</td>\n",
       "      <td>1</td>\n",
       "    </tr>\n",
       "  </tbody>\n",
       "</table>\n",
       "<p>3 rows × 61 columns</p>\n",
       "</div>"
      ],
      "text/plain": [
       "     V1    V2    V3    V4    V5    V6    V7    V8    V9   V10  ...       V52  \\\n",
       "0  0.02  0.04  0.04  0.02  0.10  0.10  0.15  0.16  0.31  0.21  ...  2.70e-03   \n",
       "1  0.05  0.05  0.08  0.07  0.12  0.26  0.22  0.35  0.33  0.29  ...  8.40e-03   \n",
       "2  0.03  0.06  0.11  0.11  0.10  0.23  0.24  0.38  0.56  0.62  ...  2.32e-02   \n",
       "\n",
       "        V53       V54       V55   V56   V57       V58       V59       V60  \\\n",
       "0  6.50e-03  1.59e-02  7.20e-03  0.02  0.02  8.40e-03  9.00e-03  3.20e-03   \n",
       "1  8.90e-03  4.80e-03  9.40e-03  0.02  0.01  4.90e-03  5.20e-03  4.40e-03   \n",
       "2  1.66e-02  9.50e-03  1.80e-02  0.02  0.03  1.64e-02  9.50e-03  7.80e-03   \n",
       "\n",
       "   Class  \n",
       "0      1  \n",
       "1      1  \n",
       "2      1  \n",
       "\n",
       "[3 rows x 61 columns]"
      ]
     },
     "execution_count": 91,
     "metadata": {},
     "output_type": "execute_result"
    }
   ],
   "source": [
    "df = pd.read_csv('c:\\\\users\\\\adria\\\\Downloads\\\\sonar.csv', header=0)\n",
    "df.head(3)"
   ]
  },
  {
   "cell_type": "code",
   "execution_count": 92,
   "metadata": {},
   "outputs": [
    {
     "data": {
      "text/plain": [
       "[Text(0.5, 1.0, 'Distribution of Classes')]"
      ]
     },
     "execution_count": 92,
     "metadata": {},
     "output_type": "execute_result"
    },
    {
     "data": {
      "image/png": "[encoded data removed]",
      "text/plain": [
       "<Figure size 432x288 with 1 Axes>"
      ]
     },
     "metadata": {},
     "output_type": "display_data"
    }
   ],
   "source": [
    "sns.countplot(y=\"Class\", data=df).set(title='Distribution of Classes')"
   ]
  },
  {
   "cell_type": "markdown",
   "metadata": {},
   "source": [
    "## Visualizing the Data"
   ]
  },
  {
   "cell_type": "markdown",
   "metadata": {},
   "source": [
    "The plot matrix of the attributes shows the distribution of attributes. We can see that most attributes are mostly skewed with a handful of attributes that\n",
    "appear to be normally distributed."
   ]
  },
  {
   "cell_type": "code",
   "execution_count": 93,
   "metadata": {},
   "outputs": [
    {
     "data": {
      "image/png": "[encoded data removed]",
      "text/plain": [
       "<Figure size 432x288 with 64 Axes>"
      ]
     },
     "metadata": {},
     "output_type": "display_data"
    }
   ],
   "source": [
    "df.hist(sharex=False, sharey=False, xlabelsize=1,ylabelsize=1,); plt.show()"
   ]
  },
  {
   "cell_type": "markdown",
   "metadata": {},
   "source": [
    "## Creating the train/test Split"
   ]
  },
  {
   "cell_type": "markdown",
   "metadata": {},
   "source": [
    "Below, the train and test data is created where the training data is assigned 20% of the dataset. The target column (Class) is also initialized."
   ]
  },
  {
   "cell_type": "code",
   "execution_count": 94,
   "metadata": {},
   "outputs": [],
   "source": [
    "x = df.iloc[:,0:60]\n",
    "y = df.iloc[:,-1]\n",
    "x_train, x_test, y_train, y_test = train_test_split(x, y, train_size=0.2, random_state=7)"
   ]
  },
  {
   "cell_type": "markdown",
   "metadata": {},
   "source": [
    "## Evaluate Models on Unscaled Data"
   ]
  },
  {
   "cell_type": "markdown",
   "metadata": {},
   "source": [
    "We will then evaluate the following models on the data. \n",
    "\n",
    "`Logistic Regression` is a classification algorithm and is used mainly to predict the probability of occurence of an event by using a logit function. Values for this algorithm ranges from 0 to 1. \n",
    "\n",
    "`Decision Trees` are also used for classification and works well with categorical and continuous depenedent variables. The algorithm splits the data into\n",
    "two or more homogenous categories where the decision to split is based on the most significant attribute that would split the data into the most distinct groups.\n",
    "\n",
    "`k-Nearest Neighbor` or kNN may be used for both classification and regression problems. Using distance functions (Euclidean, etc.), kNN is an algorithm that stores all available cases and classifies new cases my a majority vote of its k neighbors. Unline Logistic Regression and Linear Discriminant Analysis, kNN is a completely non-parmetric approach and no assumptions are made about the shape of the decision boundaries. \n",
    "\n",
    "`Linear Discriminant Analysis` or LDA calculates the separability between classes and estimates the probability that a new set of inputs belongs to a particular class. Similar to Logistic Regression, LDA assumes normality and may perform better if this assumption is met. \n",
    "\n",
    "`Naive Bayes` is a classification algorithm based on Bayes Theorem and is preferred for its higher accuracy and speed when we have large data samples. The Gaussian Naive Bayes supports continuous values and assumes that each class is normally distributed.\n",
    "\n",
    "`Support Vector Machines` or SVM is used for both regression and classification tasks. Similar to LDA, it defines the optimal hyper-planes or boundaries that can be set in order to segregate the data and group them accordingly. Unlike LDA, SVM is optimized over a subset of the data and is not prone to outliers unlike LDA.\n",
    "\n",
    "Lastly, cross validation using a ten Kfold is used. The results for mean accuracy and standard deviation are presented below where the Decision Tree Classifier yielded the highest accuracy at 73%. As we discussed earlier, we saw that attributes are mostly skewed and does not follow a normal distribution. Keep in mind that the data used for the cross valiation below  is still unscaled."
   ]
  },
  {
   "cell_type": "code",
   "execution_count": 125,
   "metadata": {},
   "outputs": [],
   "source": [
    "models = []\n",
    "models.append(('LR', LogisticRegression(max_iter=1000)))\n",
    "models.append(('DT', DecisionTreeClassifier()))\n",
    "models.append(('KNN', KNeighborsClassifier()))\n",
    "models.append(('LDA', LinearDiscriminantAnalysis()))\n",
    "models.append(('NB', GaussianNB()))\n",
    "models.append(('SVC', SVC()))"
   ]
  },
  {
   "cell_type": "code",
   "execution_count": 126,
   "metadata": {},
   "outputs": [
    {
     "name": "stdout",
     "output_type": "stream",
     "text": [
      "LR 0.710000 (0.286182)\n",
      "DT 0.730000 (0.176352)\n",
      "KNN 0.615000 (0.209821)\n",
      "LDA 0.635000 (0.226991)\n",
      "NB 0.620000 (0.263818)\n",
      "SVC 0.615000 (0.237750)\n"
     ]
    }
   ],
   "source": [
    "my_names = []\n",
    "my_results = []\n",
    "\n",
    "for name, model in models:\n",
    "    kfold = KFold(n_splits=10, random_state=None)\n",
    "    cv = cross_val_score(model, x_train, y_train, cv=kfold, scoring='accuracy')\n",
    "    my_names.append(name)\n",
    "    my_results.append(cv)\n",
    "    msg = ('%s %f (%f)' % (name, cv.mean(), cv.std()))\n",
    "    print(msg)    "
   ]
  },
  {
   "cell_type": "markdown",
   "metadata": {},
   "source": [
    "## Visualize Comparison of Algorithm on Unscaled Data"
   ]
  },
  {
   "cell_type": "markdown",
   "metadata": {},
   "source": [
    "As mentioned, the Decision Tree Classifier yielded a mean accuracy of 73% with a low standard deviation of 17.63%. This is followed by Logistic Regression with a mean accuracy of 71%, but with a significantly higher standard deviation of 28.61%."
   ]
  },
  {
   "cell_type": "code",
   "execution_count": 128,
   "metadata": {},
   "outputs": [
    {
     "data": {
      "image/png": "[encoded data removed]",
      "text/plain": [
       "<Figure size 432x288 with 1 Axes>"
      ]
     },
     "metadata": {},
     "output_type": "display_data"
    }
   ],
   "source": [
    "fig = plt.figure()\n",
    "fig.suptitle('Comparison of Algorithm on Unscaled Data')\n",
    "ax = fig.add_subplot(111)\n",
    "plt.boxplot(my_results)\n",
    "ax.set_xticklabels(my_names)\n",
    "plt.show()"
   ]
  },
  {
   "cell_type": "markdown",
   "metadata": {},
   "source": [
    "## Evaluate Algorithms on Scaled Data"
   ]
  },
  {
   "cell_type": "markdown",
   "metadata": {},
   "source": [
    "We will now build a pipeline for each algorithm using scaled data and do a cross validation on the said pipeline. The `StandardScaler` is used where the mean is removed from each datapoint and standardized by dividing the result with the standard deviation."
   ]
  },
  {
   "cell_type": "code",
   "execution_count": 129,
   "metadata": {},
   "outputs": [],
   "source": [
    "pipeline = []\n",
    "pipeline.append(('ScalerLR', Pipeline([('Scaler', StandardScaler()),('LR',LogisticRegression(max_iter=1000))])))\n",
    "pipeline.append(('ScalerDT', Pipeline([('Scaler', StandardScaler()),('DT', DecisionTreeClassifier())])))\n",
    "pipeline.append(('ScaledKNN', Pipeline([('Scaler', StandardScaler()),('KNN', KNeighborsClassifier())])))\n",
    "pipeline.append(('ScaledNB', Pipeline([('Scaler', StandardScaler()),('NB', GaussianNB())])))\n",
    "pipeline.append(('ScaledSVC', Pipeline([('Scaler', StandardScaler()),('SVC', SVC())])))"
   ]
  },
  {
   "cell_type": "markdown",
   "metadata": {},
   "source": [
    "We will rerun our cross validation on standardized data. The results below show that Decision Tree Classifier still performed better with an average accuracy of 80.50% and a standard deviation of 18.63%. "
   ]
  },
  {
   "cell_type": "code",
   "execution_count": 130,
   "metadata": {
    "_cell_guid": "79c7e3d0-c299-4dcb-8224-4455121ee9b0",
    "_uuid": "d629ff2d2480ee46fbb7e2d37f6b5fab8052498a"
   },
   "outputs": [
    {
     "name": "stdout",
     "output_type": "stream",
     "text": [
      "ScalerLR 0.655000 (0.231787)\n",
      "ScalerDT 0.805000 (0.186346)\n",
      "ScaledKNN 0.570000 (0.203961)\n",
      "ScaledNB 0.620000 (0.263818)\n",
      "ScaledSVC 0.635000 (0.276632)\n"
     ]
    }
   ],
   "source": [
    "my_cv = []\n",
    "my_names = []\n",
    "\n",
    "for name, model in pipeline:\n",
    "    kfold = KFold(n_splits=10, random_state=None)\n",
    "    cv = cross_val_score(model, x_train, y_train, cv=kfold, scoring='accuracy')\n",
    "    my_names.append(name)\n",
    "    my_cv.append(cv)\n",
    "    msg = ('%s %f (%f)' % (name, cv.mean(), cv.std()))\n",
    "    print(msg)"
   ]
  },
  {
   "cell_type": "markdown",
   "metadata": {},
   "source": [
    "## Visualize Comparison of Algorithm on Scaled Data"
   ]
  },
  {
   "cell_type": "markdown",
   "metadata": {},
   "source": [
    "The boxplots below show that the Decision Tree Classifier still performed better compared to the other algorithms. Note, however, that the standard deviation increased to 18.63% versus the previous 15.88%."
   ]
  },
  {
   "cell_type": "code",
   "execution_count": 131,
   "metadata": {},
   "outputs": [
    {
     "data": {
      "image/png": "[encoded data removed]",
      "text/plain": [
       "<Figure size 432x288 with 1 Axes>"
      ]
     },
     "metadata": {},
     "output_type": "display_data"
    }
   ],
   "source": [
    "fig = plt.figure()\n",
    "fig.suptitle('Comparison of Algorithm on Scaled Data')\n",
    "ax = fig.add_subplot(111)\n",
    "plt.boxplot(my_cv)\n",
    "ax.set_xticklabels(my_names)\n",
    "plt.show()"
   ]
  },
  {
   "cell_type": "markdown",
   "metadata": {},
   "source": [
    "## Hyperparameter Tuning of SVC"
   ]
  },
  {
   "cell_type": "markdown",
   "metadata": {},
   "source": [
    "Below, we will perform a hyperparameteroptimization by doing a grid search of values to discover the optimal set of model configuration that result in \n",
    "the best performance of the model. The optimization resulted to a best score of 73% using `C=0.3` and `linear` kernal value. As we know, C values dictates how our model will perform given noisy points in the data while the kernel maps the datapoints into a feature space."
   ]
  },
  {
   "cell_type": "code",
   "execution_count": 108,
   "metadata": {},
   "outputs": [
    {
     "name": "stdout",
     "output_type": "stream",
     "text": [
      "Best score 0.730000 using {'C': 0.3, 'kernel': 'linear'}\n",
      "0.535000 (0.236696) with {'C': 0.1, 'kernel': 'poly'}\n",
      "0.435000 (0.230272) with {'C': 0.1, 'kernel': 'rbf'}\n",
      "0.655000 (0.257342) with {'C': 0.1, 'kernel': 'linear'}\n",
      "0.435000 (0.230272) with {'C': 0.1, 'kernel': 'sigmoid'}\n",
      "0.560000 (0.269072) with {'C': 0.3, 'kernel': 'poly'}\n",
      "0.460000 (0.192094) with {'C': 0.3, 'kernel': 'rbf'}\n",
      "0.730000 (0.236854) with {'C': 0.3, 'kernel': 'linear'}\n",
      "0.495000 (0.255392) with {'C': 0.3, 'kernel': 'sigmoid'}\n",
      "0.585000 (0.193714) with {'C': 0.5, 'kernel': 'poly'}\n",
      "0.440000 (0.217715) with {'C': 0.5, 'kernel': 'rbf'}\n",
      "0.730000 (0.236854) with {'C': 0.5, 'kernel': 'linear'}\n",
      "0.585000 (0.193714) with {'C': 0.5, 'kernel': 'sigmoid'}\n",
      "0.560000 (0.186815) with {'C': 0.7, 'kernel': 'poly'}\n",
      "0.565000 (0.279330) with {'C': 0.7, 'kernel': 'rbf'}\n",
      "0.730000 (0.236854) with {'C': 0.7, 'kernel': 'linear'}\n",
      "0.585000 (0.223663) with {'C': 0.7, 'kernel': 'sigmoid'}\n",
      "0.560000 (0.186815) with {'C': 0.9, 'kernel': 'poly'}\n",
      "0.635000 (0.276632) with {'C': 0.9, 'kernel': 'rbf'}\n",
      "0.730000 (0.236854) with {'C': 0.9, 'kernel': 'linear'}\n",
      "0.585000 (0.223663) with {'C': 0.9, 'kernel': 'sigmoid'}\n",
      "0.560000 (0.186815) with {'C': 1.0, 'kernel': 'poly'}\n",
      "0.635000 (0.276632) with {'C': 1.0, 'kernel': 'rbf'}\n",
      "0.730000 (0.236854) with {'C': 1.0, 'kernel': 'linear'}\n",
      "0.585000 (0.223663) with {'C': 1.0, 'kernel': 'sigmoid'}\n",
      "0.585000 (0.223663) with {'C': 1.3, 'kernel': 'poly'}\n",
      "0.680000 (0.276767) with {'C': 1.3, 'kernel': 'rbf'}\n",
      "0.730000 (0.236854) with {'C': 1.3, 'kernel': 'linear'}\n",
      "0.660000 (0.274591) with {'C': 1.3, 'kernel': 'sigmoid'}\n",
      "0.605000 (0.232863) with {'C': 1.5, 'kernel': 'poly'}\n",
      "0.680000 (0.276767) with {'C': 1.5, 'kernel': 'rbf'}\n",
      "0.730000 (0.236854) with {'C': 1.5, 'kernel': 'linear'}\n",
      "0.660000 (0.274591) with {'C': 1.5, 'kernel': 'sigmoid'}\n",
      "0.555000 (0.249449) with {'C': 1.7, 'kernel': 'poly'}\n",
      "0.680000 (0.276767) with {'C': 1.7, 'kernel': 'rbf'}\n",
      "0.730000 (0.236854) with {'C': 1.7, 'kernel': 'linear'}\n",
      "0.660000 (0.274591) with {'C': 1.7, 'kernel': 'sigmoid'}\n",
      "0.630000 (0.259037) with {'C': 2.0, 'kernel': 'poly'}\n",
      "0.680000 (0.276767) with {'C': 2.0, 'kernel': 'rbf'}\n",
      "0.730000 (0.236854) with {'C': 2.0, 'kernel': 'linear'}\n",
      "0.660000 (0.274591) with {'C': 2.0, 'kernel': 'sigmoid'}\n"
     ]
    }
   ],
   "source": [
    "scaler = StandardScaler().fit(x_train)\n",
    "rescaled_x = scaler.transform(x_train)\n",
    "c_vals = [0.1, 0.3, 0.5, 0.7, 0.9, 1.0, 1.3, 1.5, 1.7, 2.0]\n",
    "kernel_vals = ['poly', 'rbf', 'linear', 'sigmoid']\n",
    "param_grid = dict(C=c_vals, kernel=kernel_vals)\n",
    "\n",
    "model = SVC()\n",
    "kfold = KFold(n_splits = 10, random_state=None)\n",
    "grid = GridSearchCV(estimator = model, param_grid=param_grid, scoring = 'accuracy', cv=kfold)\n",
    "grid_result = grid.fit(rescaled_x, y_train)\n",
    "    \n",
    "print('Best score %f using %s' % (grid_result.best_score_, grid_result.best_params_))\n",
    "\n",
    "means = grid_result.cv_results_['mean_test_score']\n",
    "stds = grid_result.cv_results_['std_test_score']\n",
    "params = grid_result.cv_results_['params']\n",
    "\n",
    "for mean, stdev, param in zip(means, stds, params):\n",
    "    print('%f (%f) with %r' % (mean, stdev, param))"
   ]
  },
  {
   "cell_type": "markdown",
   "metadata": {},
   "source": [
    "## Ensemble Methods"
   ]
  },
  {
   "cell_type": "markdown",
   "metadata": {},
   "source": [
    "Next, we will check ensemble methods using the algorithms below. Ensemble methods work by combining two or more models to make a prediction.\n",
    "\n",
    "`AdaBoost` is a technique that combines weak learners together to form a strong learner. A weak learner is a decision stump made up of a single split. Each classifider is assigned a different weight based on the classifier's performance (where more weight is assigned to the classifier with a higher accuracy). At each round, weights are assigned to the observations in order for misclassified observations to have a bigger chance to being selected in the next sampling. Unlike Random Forest where all trees are assigned equal weights, AdaBoost assigns weights to both the datapoint and scores to every classifier. \n",
    "\n",
    "`Gradient Boost` or GBM also combines weak learners in order to form a strong learner, but it is an additive model as the residual of the current classifier is carried over to the next classifier. As the name implies, the model uses Gradient Descent and identifies the negative gradient in order to find the optimal values. \n",
    "\n",
    "`Random Forest` is used for both classification and regression. It takes a majority vote for classification and mean for regression. Random Forest can handle continuous variables as in the case of regresion and categorical variables in the case of classification. Unlike AdaBoost which uses `boosting` (combining weak learners into a strong learner), Random Forest uses `bagging` or `bootstrap aggregation` as it creates a different training subset from the train data (with replacement) and the output is based on marjority voting. \n",
    "\n",
    "`Extra Trees` is an algorithm that combines the predictions from many decision tress. It is similar to the Random Forest model, but uses a simpler  algorith and utlizes a few key hyperparameters.\n",
    "\n",
    "Doing cros validation using the similar ten KFold split above, GBM yielded the highest average accuracy at 80.50% with a standard deviation of 18.63%. "
   ]
  },
  {
   "cell_type": "code",
   "execution_count": 132,
   "metadata": {},
   "outputs": [],
   "source": [
    "ensembles = []\n",
    "ensembles.append(('AdaBoost', AdaBoostClassifier()))\n",
    "ensembles.append(('GradientBoost', GradientBoostingClassifier()))\n",
    "ensembles.append(('RandomForest', RandomForestClassifier()))\n",
    "ensembles.append(('ExtraTrees', ExtraTreesClassifier()))"
   ]
  },
  {
   "cell_type": "code",
   "execution_count": 133,
   "metadata": {},
   "outputs": [
    {
     "name": "stdout",
     "output_type": "stream",
     "text": [
      "AdaBoost 0.735000 (0.198809)\n",
      "GradientBoost 0.805000 (0.186346)\n",
      "RandomForest 0.690000 (0.199750)\n",
      "ExtraTrees 0.710000 (0.238537)\n"
     ]
    }
   ],
   "source": [
    "my_cv = []\n",
    "my_names = []\n",
    "\n",
    "for name, model in ensembles:\n",
    "    kfold = KFold(n_splits=10, random_state=None)\n",
    "    cv = cross_val_score(model, x_train, y_train, cv=kfold, scoring='accuracy')\n",
    "    my_cv.append(cv)\n",
    "    my_names.append(name)\n",
    "    msg = '%s %f (%f)' % (name, cv.mean(), cv.std())\n",
    "    print(msg)"
   ]
  },
  {
   "cell_type": "markdown",
   "metadata": {},
   "source": [
    "### Visualize Comparison of Ensembles on Unscaled Data"
   ]
  },
  {
   "cell_type": "code",
   "execution_count": 134,
   "metadata": {},
   "outputs": [
    {
     "data": {
      "image/png": "[encoded data removed]",
      "text/plain": [
       "<Figure size 432x288 with 1 Axes>"
      ]
     },
     "metadata": {},
     "output_type": "display_data"
    }
   ],
   "source": [
    "fig = plt.figure()\n",
    "fig.suptitle('Comparison of Ensembles on Unscaled Data')\n",
    "ax = fig.add_subplot(111)\n",
    "plt.boxplot(my_cv)\n",
    "ax.set_xticklabels(my_names)\n",
    "plt.show()"
   ]
  },
  {
   "cell_type": "markdown",
   "metadata": {},
   "source": [
    "## Evaluate Ensembles on Scaled Data"
   ]
  },
  {
   "cell_type": "markdown",
   "metadata": {},
   "source": [
    "We will create another pipeline for the standardized data and do a cross validation using the ensemble algorithms. \n",
    "\n",
    "Based on the results, GBM still performed better with an average accuracy of 80.50% and a standard deviation of 18.63%. "
   ]
  },
  {
   "cell_type": "code",
   "execution_count": 137,
   "metadata": {},
   "outputs": [],
   "source": [
    "pipeline2 = []\n",
    "pipeline2.append(('ScalerAB', Pipeline([('Scaler', StandardScaler()),('AB',AdaBoostClassifier())])))\n",
    "pipeline2.append(('ScalerGBM', Pipeline([('Scaler', StandardScaler()),('GBM', GradientBoostingClassifier())])))\n",
    "pipeline2.append(('ScaledRF', Pipeline([('Scaler', StandardScaler()),('RF', RandomForestClassifier())])))\n",
    "pipeline2.append(('ScaledET', Pipeline([('Scaler', StandardScaler()),('ET', ExtraTreesClassifier())])))"
   ]
  },
  {
   "cell_type": "code",
   "execution_count": 138,
   "metadata": {},
   "outputs": [
    {
     "name": "stdout",
     "output_type": "stream",
     "text": [
      "ScalerAB 0.710000 (0.210713)\n",
      "ScalerGBM 0.805000 (0.186346)\n",
      "ScaledRF 0.735000 (0.198809)\n",
      "ScaledET 0.715000 (0.247032)\n"
     ]
    }
   ],
   "source": [
    "my_cv = []\n",
    "my_names = []\n",
    "\n",
    "for name, model in pipeline2:\n",
    "    kfold = KFold(n_splits=10, random_state=None)\n",
    "    cv = cross_val_score(model, x_train, y_train, cv=kfold, scoring='accuracy')\n",
    "    my_names.append(name)\n",
    "    my_cv.append(cv)\n",
    "    msg = ('%s %f (%f)' % (name, cv.mean(), cv.std()))\n",
    "    print(msg)"
   ]
  },
  {
   "cell_type": "markdown",
   "metadata": {},
   "source": [
    "### Visualize Comparison of Ensembles on Scaled Data"
   ]
  },
  {
   "cell_type": "code",
   "execution_count": 139,
   "metadata": {},
   "outputs": [
    {
     "data": {
      "image/png": "[encoded data removed]",
      "text/plain": [
       "<Figure size 432x288 with 1 Axes>"
      ]
     },
     "metadata": {},
     "output_type": "display_data"
    }
   ],
   "source": [
    "fig = plt.figure()\n",
    "fig.suptitle('Comparison of Ensembles on Scaled Data')\n",
    "ax = fig.add_subplot(111)\n",
    "plt.boxplot(my_cv)\n",
    "ax.set_xticklabels(my_names)\n",
    "plt.show()"
   ]
  },
  {
   "cell_type": "markdown",
   "metadata": {},
   "source": [
    "## Finalize the Model"
   ]
  },
  {
   "cell_type": "markdown",
   "metadata": {},
   "source": [
    "We will not compare the performance of SVC and GBM on the test data."
   ]
  },
  {
   "cell_type": "code",
   "execution_count": 151,
   "metadata": {},
   "outputs": [
    {
     "data": {
      "text/plain": [
       "SVC()"
      ]
     },
     "execution_count": 151,
     "metadata": {},
     "output_type": "execute_result"
    }
   ],
   "source": [
    "scaler = StandardScaler().fit(x_train)\n",
    "rescaled_x = scaler.transform(x_train)\n",
    "model = SVC()\n",
    "model.fit(rescaled_x, y_train)"
   ]
  },
  {
   "cell_type": "code",
   "execution_count": 152,
   "metadata": {},
   "outputs": [
    {
     "name": "stdout",
     "output_type": "stream",
     "text": [
      "0.7305389221556886\n",
      "[[62 30]\n",
      " [15 60]]\n",
      "              precision    recall  f1-score   support\n",
      "\n",
      "           0       0.81      0.67      0.73        92\n",
      "           1       0.67      0.80      0.73        75\n",
      "\n",
      "    accuracy                           0.73       167\n",
      "   macro avg       0.74      0.74      0.73       167\n",
      "weighted avg       0.74      0.73      0.73       167\n",
      "\n"
     ]
    }
   ],
   "source": [
    "rescaled_x_test = scaler.transform(x_test)\n",
    "predictions = model.predict(rescaled_x_test)\n",
    "print(accuracy_score(y_test, predictions))\n",
    "print(confusion_matrix(y_test, predictions))\n",
    "print(classification_report(y_test, predictions))"
   ]
  },
  {
   "cell_type": "markdown",
   "metadata": {},
   "source": [
    "SVC yielded an accuracy of 73.05%. Below is the result for GBM."
   ]
  },
  {
   "cell_type": "code",
   "execution_count": 153,
   "metadata": {},
   "outputs": [
    {
     "data": {
      "text/plain": [
       "GradientBoostingClassifier()"
      ]
     },
     "execution_count": 153,
     "metadata": {},
     "output_type": "execute_result"
    }
   ],
   "source": [
    "scaler = StandardScaler().fit(x_train)\n",
    "rescaled_x = scaler.transform(x_train)\n",
    "model = GradientBoostingClassifier()\n",
    "model.fit(rescaled_x, y_train)"
   ]
  },
  {
   "cell_type": "code",
   "execution_count": 154,
   "metadata": {},
   "outputs": [
    {
     "name": "stdout",
     "output_type": "stream",
     "text": [
      "0.6287425149700598\n",
      "[[48 44]\n",
      " [18 57]]\n",
      "              precision    recall  f1-score   support\n",
      "\n",
      "           0       0.73      0.52      0.61        92\n",
      "           1       0.56      0.76      0.65        75\n",
      "\n",
      "    accuracy                           0.63       167\n",
      "   macro avg       0.65      0.64      0.63       167\n",
      "weighted avg       0.65      0.63      0.63       167\n",
      "\n"
     ]
    }
   ],
   "source": [
    "rescaled_x_test = scaler.transform(x_test)\n",
    "predictions = model.predict(rescaled_x_test)\n",
    "print(accuracy_score(y_test, predictions))\n",
    "print(confusion_matrix(y_test, predictions))\n",
    "print(classification_report(y_test, predictions))"
   ]
  },
  {
   "cell_type": "markdown",
   "metadata": {},
   "source": [
    "GBM's accuracy performed lowered compared to SVC at 62.87%. As our dataset is imbalanced, we will look at the other metrics.\n",
    "\n",
    "As we know, the Precision (True Positive/(True Positive+False Positive)) metric measures the correctly predicted cases that turned out to be positive while Recall (True Positive/(True Positive+False Negative) or True Positive Rate/Sensitivity) measures how many of the actual positive cases we were able to predict correctly. For both models, Recall is high for 1 at 80% for SVM and 76% for GBM.\n",
    "\n",
    "The F1-Score for SVM is also higher at 73%. The metric measures the harmonic mean between Precision and Recall and measures the combination of both metrics\n",
    "(2 x Recall x precision)/(Recall + Precision)."
   ]
  }
 ],
 "metadata": {
  "kernelspec": {
   "display_name": "Python 3",
   "language": "python",
   "name": "python3"
  },
  "language_info": {
   "codemirror_mode": {
    "name": "ipython",
    "version": 3
   },
   "file_extension": ".py",
   "mimetype": "text/x-python",
   "name": "python",
   "nbconvert_exporter": "python",
   "pygments_lexer": "ipython3",
   "version": "3.8.8"
  }
 },
 "nbformat": 4,
 "nbformat_minor": 4
}
